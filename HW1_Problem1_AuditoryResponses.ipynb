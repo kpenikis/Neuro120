{
  "metadata": {
    "kernelspec": {
      "name": "python3",
      "display_name": "Python 3 (ipykernel)",
      "language": "python"
    },
    "colab": {
      "provenance": []
    }
  },
  "nbformat": 4,
  "nbformat_minor": 0,
  "cells": [
    {
      "cell_type": "code",
      "execution_count": null,
      "metadata": {
        "id": "BxYU4AXZScNp"
      },
      "outputs": [],
      "source": [
        "import numpy as np\n",
        "import matplotlib.pyplot as plt"
      ]
    },
    {
      "cell_type": "code",
      "source": [
        "# Added this section (and filepath when loading data) to execute in Colab instead of Ed\n",
        "# from google.colab import drive\n",
        "# drive.mount('/content/drive')\n",
        "# data_filepath = '/content/drive/MyDrive/^Teaching/^Spring 2024/Assignments/HW1_Problem1/'"
      ],
      "metadata": {
        "id": "ejCOXLtTTEAh"
      },
      "execution_count": null,
      "outputs": []
    },
    {
      "cell_type": "markdown",
      "metadata": {
        "id": "__3zpM1tScNq"
      },
      "source": [
        "# Section 1: Single neuron response to exposure stimulus\n",
        "\n",
        "We will first look at the response of a single neuron to the exposure stimulus.\n",
        "\n",
        "The exposure stimulus repeats the chord pulse at 6 Hz. This means that we can treat each 1/6 of a second as a separate stimulus presentation (a separate trial).\n",
        "\n",
        " Below, we load in `spikes_single_neuron` which is an array of numpy arrays, where each inner numpy array contains the spike times (in seconds) for a single trial. This data is for a neuron from an animal in the experimental group, in response to the exposure stimulus. We then plot a raster plot"
      ]
    },
    {
      "cell_type": "code",
      "execution_count": null,
      "metadata": {
        "id": "YV9JEU9AScNr"
      },
      "outputs": [],
      "source": [
        "n_trials = 360\n",
        "data = np.load('exposure_stimulus.npz', allow_pickle=True) # ed\n",
        "# data = np.load(data_filepath + 'exposure_stimulus.npz', allow_pickle=True) # colab\n",
        "print(data.files)\n",
        "\n",
        "spikes_single_neuron = data['spikes_single_neuron']\n",
        "\n",
        "# Make raster plot\n",
        "fig, ax = plt.subplots(1, 1, figsize=(12, 7))\n",
        "\n",
        "# Make raster of this data\n",
        "ax.eventplot(spikes_single_neuron, colors = 'black')\n",
        "\n",
        "# Label x and y axes (with units!)\n",
        "ax.set(xlabel = 'Time (s)', ylabel = 'Trial Number');"
      ]
    },
    {
      "cell_type": "markdown",
      "metadata": {
        "id": "lC0AVhv-ScNs"
      },
      "source": [
        "## Problem 1a (coding): Plotting a PSTH\n",
        "\n",
        "To further investigate these responses, **plot a PSTH for this neuron in response to the stimuli**.\n",
        "\n",
        "We first need to bin the spikes. First, we create an array, `binned_spikes`, where the rows correspond to trials and the columns correspond to different time bins. The number of time bins depends on the width of each time bin, which we can set with `bin_width`. Each entry is the number of spikes in that time bin in that trial.\n"
      ]
    },
    {
      "cell_type": "code",
      "execution_count": null,
      "metadata": {
        "id": "-7sxtxFWScNt"
      },
      "outputs": [],
      "source": [
        "# Bin spikes (no need for you to do anything)\n",
        "\n",
        "# Bin width in seconds\n",
        "bin_width = 1/1000\n",
        "\n",
        "# Figure out start time of each time bin\n",
        "bin_edge_times = np.arange(0, 1/6 + bin_width, bin_width)\n",
        "\n",
        "# Initialize binned_spikes array\n",
        "binned_spikes = np.zeros((n_trials, len(bin_edge_times) - 1))\n",
        "\n",
        "# Loop over trials\n",
        "for i_trial in range(n_trials):\n",
        "\n",
        "    # Get binned spikes using histogram method\n",
        "    binned_spikes[i_trial, :], _ = np.histogram(spikes_single_neuron[i_trial], bins = bin_edge_times)"
      ]
    },
    {
      "cell_type": "markdown",
      "metadata": {
        "id": "I1h-O8AiScNt"
      },
      "source": [
        "Use the above array `binned_spikes` to compute the PSTH. We want this in units of spikes/second (not spikes/bin)."
      ]
    },
    {
      "cell_type": "code",
      "execution_count": null,
      "metadata": {
        "id": "ohB7JCrxScNu"
      },
      "outputs": [],
      "source": [
        "# TODO: Compute PSTH\n",
        "PSTH = ...\n",
        "\n",
        "# Plot PSTH\n",
        "fig, ax = plt.subplots(1, 1, figsize=(12, 7))\n",
        "ax.plot(np.arange(0, 1/6, bin_width), PSTH, 'k')\n",
        "\n",
        "# TODO: set axis labels\n",
        "...\n"
      ]
    },
    {
      "cell_type": "markdown",
      "metadata": {
        "id": "eNkozZNMScNu"
      },
      "source": [
        "## Problem 1b: Interpreting the PSTH\n",
        "\n",
        "\n",
        "i) Try re-running the previous two code cells with different bin widths. Try .2 ms, 1 ms, 5 ms, 10 ms, 25 ms, and 50 ms. What is the issue with too small bins? Too big bins? About what size bin would you choose to use to convey the average firing rate of this neuron accurately?\n",
        "\n",
        "ii) Does this neuron seem to respond to the stimulus?"
      ]
    },
    {
      "cell_type": "markdown",
      "metadata": {
        "id": "3IE0cA9IScNv"
      },
      "source": [
        "<font color='green'><span style=\"font-size:larger;\">\n",
        "i)\n",
        "<br>\n",
        "<br>\n",
        "ii)\n",
        "<br>"
      ]
    },
    {
      "cell_type": "markdown",
      "metadata": {
        "id": "XYKrVth8ScNw"
      },
      "source": [
        "# Section 2: Neural population response to exposure stimulus\n",
        "\n",
        "Let's now look at more neurons in both experimental animals and control animals. In the cell below, we load in `binned_spikes_exp` and `binned_spikes_control`. Each of these is an array with shape (number of neurons x trials x time bin). These bins are 5 ms wide.  `binned_spikes_exp` contains the spiking responses of neurons recorded from animals in the experimental group (animals exposed to the simulus) and `binned_spikes_control` is data recorded from a control group (animals who weren't exposed to the stimulus).\n"
      ]
    },
    {
      "cell_type": "code",
      "execution_count": null,
      "metadata": {
        "id": "Y3Xh1FhtScNw"
      },
      "outputs": [],
      "source": [
        "bin_width = 5/1000\n",
        "binned_spikes_exp = data['binned_spikes_exp']\n",
        "binned_spikes_control = data['binned_spikes_control']"
      ]
    },
    {
      "cell_type": "markdown",
      "metadata": {
        "id": "wEeWdjxbScNw"
      },
      "source": [
        "### Problem 1c (coding): Computing responses of control and experimental groups\n",
        "\n",
        "We want to compare the average neural response to the stimulus in the experimental animal neurons to the average response in the control animal neurons. Compute a PSTH for each group and plot them both over time on the same plot to compare. This time it should be averaged over trials and neurons. This gives us information about the response properties of the whole population of neurons. Use `binned_spikes_exp` and `binned_spikes_control`."
      ]
    },
    {
      "cell_type": "code",
      "execution_count": null,
      "metadata": {
        "id": "8u_Q3HiGScNx"
      },
      "outputs": [],
      "source": [
        "# TODO: compute PSTHs over neurons and trials\n",
        "PSTH_exp = ...\n",
        "PSTH_control = ...\n",
        "\n",
        "# Visualize PSTHs\n",
        "fig, ax = plt.subplots(1, 1)\n",
        "\n",
        "# TODO: Plot the PSTHs (and label the two lines)\n",
        "t = np.arange(0, 1/6, 5/1000)\n",
        "...\n",
        "...\n",
        "\n",
        "ax.set(xlabel='Time (s)', ylabel='Firing rate (Hz)')\n",
        "plt.legend(loc='best');"
      ]
    },
    {
      "cell_type": "markdown",
      "metadata": {
        "id": "D5JXSpWAScNx"
      },
      "source": [
        "### Problem 1d: Analyzing response differences between control and experimental groups\n",
        "\n",
        "i) How many neurons do we have data from in the experimental group? How many for the control group? Show, in code, where/how you can find these numbers.\n",
        "\n",
        "ii) What differences do you observe between the experimental and control groups? Did neurons become more or less selective to the exposure stimulus?  Are there any differences in responses after the initial peak response?"
      ]
    },
    {
      "cell_type": "code",
      "source": [
        "# TODO"
      ],
      "metadata": {
        "id": "O31j63gHU9gE"
      },
      "execution_count": null,
      "outputs": []
    },
    {
      "cell_type": "markdown",
      "metadata": {
        "id": "YpVsysvAScNx"
      },
      "source": [
        "\n",
        "<font color='green'><span style=\"font-size:larger;\">\n",
        "i)\n",
        "<br><br>\n",
        "ii)\n",
        "<br>"
      ]
    },
    {
      "cell_type": "markdown",
      "metadata": {
        "id": "wfCFACyIScNy"
      },
      "source": [
        "# Section 3: Single neuron response to DMR stimulus\n",
        "\n",
        "Let's look at a neural response to a different stimulus. This time, the stimulus is a 15 minute 'dynamic moving ripple' (DMR) stimulus. It contains a range of different spectral and temporal modulations. The stimulus can be viewed as a spectrogram, which represents the strength of different auditory frequencies over time. We load in the relevant data below, which contains the following variables: `sp_times`, a list of spiking times in seconds for this neuron; `stim_spectrogram`, a 2D spectrogram of the DMR stimulus (here the rows index different frequencies and the columns index different time points); `stim_freq`, a vector with the frequencies of each row in the spectrogram in Hz; and `stim_time`, a vector with the time of each column in the spectrogram in seconds."
      ]
    },
    {
      "cell_type": "code",
      "execution_count": null,
      "metadata": {
        "id": "B1Mm2uZnScNy"
      },
      "outputs": [],
      "source": [
        "data = np.load('dmr_stimulus_data.npz', allow_pickle=True) # ed\n",
        "# data = np.load(data_filepath + 'dmr_stimulus_data.npz', allow_pickle=True) # colab\n",
        "\n",
        "sp_times = data['sp_times']\n",
        "stim_spectrogram = data['stim_spectrogram']\n",
        "stim_freq = data['stim_freq']\n",
        "stim_time = data['stim_time']"
      ]
    },
    {
      "cell_type": "markdown",
      "metadata": {
        "id": "J52pyA8GScNz"
      },
      "source": [
        "Let's visualize the DMR stimulus. Run the cell below to plot the spectrogram of this stimulus for the first 30 s."
      ]
    },
    {
      "cell_type": "code",
      "execution_count": null,
      "metadata": {
        "id": "JEKmA5oAScNz"
      },
      "outputs": [],
      "source": [
        "from mpl_toolkits.axes_grid1 import make_axes_locatable\n",
        "\n",
        "def plot_spectrogram(spect, time, freq, xlabel = None, ylabel = None, axis = None, max_time = None):\n",
        "    time, freq = time.flatten(), freq.flatten()\n",
        "\n",
        "    xlabel, ylabel = xlabel or 'Time (s)', ylabel or 'Frequency (kHz)'\n",
        "    fig, ax = plt.subplots(1, 1)\n",
        "\n",
        "    im = ax.imshow(spect, extent=[time[0], time[-1], 0, len(freq)], cmap=\"jet_r\")\n",
        "\n",
        "    yticks = [int(i) for i in ax.get_yticks() if i < len(freq)]\n",
        "    ylabels = np.round(freq[(yticks,)] / 1000, 1)\n",
        "\n",
        "    if max_time:\n",
        "      ax.set_xlim([0, max_time])\n",
        "\n",
        "    ax.set_yticks(yticks)\n",
        "    ax.set_yticklabels(ylabels)\n",
        "    ax.set_xlabel(xlabel)\n",
        "    ax.set_ylabel(ylabel)\n",
        "\n",
        "    if axis:\n",
        "        plt.axis(axis)\n",
        "    divider = make_axes_locatable(ax)\n",
        "    cax = divider.append_axes(\"right\", size=\"5%\", pad=0.05)\n",
        "\n",
        "    plt.colorbar(im, cax=cax)\n",
        "\n",
        "# Plot spectrogram of stimulus\n",
        "plot_spectrogram(stim_spectrogram, stim_time, stim_freq, max_time = 30)"
      ]
    },
    {
      "cell_type": "markdown",
      "source": [
        "<br>**Side quest:** Edit the code in the previous block so that the stimulus is plotted using a better color scheme. Choose a colormap that is appropriate for the data being displayed.\n",
        "([Hint 1](https://matplotlib.org/stable/users/explain/colors/colormaps.html), [Hint 2](https://matplotlib.org/stable/api/_as_gen/matplotlib.axes.Axes.imshow.html#matplotlib.axes.Axes.imshow))\n",
        "</br></br>"
      ],
      "metadata": {
        "id": "Qtd5pnLzIyPs"
      }
    },
    {
      "cell_type": "markdown",
      "metadata": {
        "id": "juhimcVwScNz"
      },
      "source": [
        "### Problem 1e (coding): Computing a spike-triggered average\n",
        "\n",
        "Generate a spike-triggered average for this neuron that extends 125 ms into the past and 125 ms into the future. That is, for each spike, cut out a segment of the stimulus corresponding to the 250 ms window centered on the spike, and average these together. The bin width of the stimulus is 5 ms (we recorded the intensity of all frequncies every 5 ms).\n",
        "\n",
        "We have the actual spike times, whereas we need the binned spikes. There are two options for how to compute the STA:\n",
        "\n",
        "1) convert to binned spikes at the start (look above in this doc for an example of converting to binned spikes) and compute the STA a very similar way to how we did it before. Hint: you probably want to use the same bin width for spikes as exists for the stimulus.\n",
        "\n",
        "2) Loop over exact spike times and figure out what stimulus time bin the spike time falls in inside the for loop."
      ]
    },
    {
      "cell_type": "code",
      "execution_count": null,
      "metadata": {
        "id": "a4JYPUshScNz"
      },
      "outputs": [],
      "source": [
        "# Determine how long we want the STA to be\n",
        "# note: binsize should remain 5 ms to match the stimulus spectrogram\n",
        "STA_length_ms = 400\n",
        "binsize = 5\n",
        "STA_length = int(STA_length_ms / 5)\n",
        "half_length = int(STA_length / 2)\n",
        "\n",
        "# Initialize STA\n",
        "STA = np.zeros((stim_freq.shape[0], STA_length+1))\n",
        "\n",
        "# Compute STA\n",
        "... # your code here\n",
        "\n",
        "\n",
        "# Plot results\n",
        "plot_spectrogram(STA, np.array([-STA_length_ms / 2, STA_length_ms / 2]), stim_freq, xlabel='Time relative to spike (ms)', axis='auto')\n"
      ]
    },
    {
      "cell_type": "markdown",
      "metadata": {
        "id": "W6WEZOw9ScN0"
      },
      "source": [
        "### Problem 1f: Interpreting a spike-triggered average\n",
        "\n",
        "i)  Is the neuron responding to the stimulus that happened far in the past, far in the future, recently in the past, or recently in the future?\n",
        "\n",
        "ii) What frequency is the neuron most selective to?\n",
        "\n",
        "iii) According to the STA, would the neuron emit a stronger response to a sustained tone at its preferred frequency, or to a brief tone pip? Approximately how long should a tone be to evoke the largest response?\n",
        "\n",
        "iv) Without this stimulus and data analysis method to extract the receptive field, how else could we have gotten a sense of what stimuli this neuron responds to?"
      ]
    },
    {
      "cell_type": "markdown",
      "metadata": {
        "id": "iI2fFfcrScN0"
      },
      "source": [
        "<font color='green'><span style=\"font-size:larger;\">\n",
        "i)\n",
        "<br>\n",
        "ii)\n",
        "<br>\n",
        "iii)\n",
        "<br>\n",
        "iv)"
      ]
    }
  ]
}